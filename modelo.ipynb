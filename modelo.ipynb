{
 "cells": [
  {
   "attachments": {},
   "cell_type": "markdown",
   "metadata": {},
   "source": [
    "# Modelo de Machine Learning"
   ]
  },
  {
   "attachments": {},
   "cell_type": "markdown",
   "metadata": {},
   "source": [

    "Se implemento el modelo SVD para un sistema de recomendacion con filtro colaborativo"

   ]
  },
  {
   "cell_type": "code",
   "execution_count": 2,
   "metadata": {},
   "outputs": [],
   "source": [
    "import pandas as pd\n",
    "import matplotlib.pyplot as plt\n",
    "import numpy as np\n",
    "import glob\n",
    "import joblib\n",
    "#Libreria para usar pandas parallelismo usando pandas\n",
    "from dask import dataframe as dd\n",
    "from dask import delayed\n",
    "from dask.distributed import Client\n",
    "\n",
    "\n",
    "from surprise import NormalPredictor, Reader, Dataset, accuracy, SVD\n",
    "from surprise.model_selection import cross_validate, train_test_split"
   ]
  },
  {
   "cell_type": "code",
   "execution_count": 5,
   "metadata": {},
   "outputs": [
    {
     "name": "stdout",
     "output_type": "stream",
     "text": [
      "(Delayed('int-79fcba02-86d6-4a37-8943-a2c392101262'), 4)\n",
      "<class 'dask.dataframe.core.DataFrame'>\n",
      "(11024289, 4)\n",
      "<class 'pandas.core.frame.DataFrame'>\n"
     ]
    }
   ],
   "source": [
    "listacsv = glob.glob('**/[1-8].csv', recursive=True)\n",
    "df_dask = dd.read_csv(listacsv)\n",
    "ratings = df_dask.compute()"
   ]
  },
  {
   "cell_type": "code",
   "execution_count": 6,
   "metadata": {},
   "outputs": [],
   "source": [
    "client = Client(processes=False)  \n",
    "\n",
    "with joblib.parallel_backend('dask'):\n",
    "    muestra = ratings.sample(frac = 0.01,random_state=0)    "
   ]
  },
  {
   "cell_type": "code",
   "execution_count": 7,
   "metadata": {},
   "outputs": [],
   "source": [
    "with joblib.parallel_backend('dask'):\n",
    "    reader = Reader()\n",
    "    data = Dataset.load_from_df(muestra[['userId', 'movieId', 'rating']], reader)"
   ]
  },
  {
   "cell_type": "code",
   "execution_count": 12,
   "metadata": {},
   "outputs": [],
   "source": [
    "\n",
    "#kf = KFold(n_splits=5, shuffle=True, random_state=0)\n",
    "'''\n",
    "def model_framework(train_data):\n",
    "    #store the rmse values for each fold in the k-fold loop \n",
    "    with joblib.parallel_backend('dask'):\n",
    "        normp_rmse, svd_rmse, knn_rmse, co_rmse, slope_rmse = [],[],[], [],[]\n",
    "\n",
    "        for trainset, testset in kf.split(train_data):\n",
    "            \n",
    "            #baseline\n",
    "            normp = NormalPredictor()\n",
    "            normp.fit(trainset)\n",
    "            normp_pred = normp.test(testset)\n",
    "            normp_rmse.append(accuracy.rmse(normp_pred,verbose=False))\n",
    "            \n",
    "            #svd\n",
    "            svd = SVD(n_factors=30, n_epochs=50,biased=True, lr_all=0.005, reg_all=0.4, verbose=False)\n",
    "            svd.fit(trainset)\n",
    "            svd_pred = svd.test(testset)\n",
    "            svd_rmse.append(accuracy.rmse(svd_pred,verbose=False))\n",
    "            \n",
    "            #knn\n",
    "            knn = KNNBasic(k=40,sim_options={'name': 'cosine', 'user_based': False}, verbose=False) \n",
    "            knn.fit(trainset)\n",
    "            knn_pred = knn.test(testset)\n",
    "            knn_rmse.append(accuracy.rmse(knn_pred,verbose=False))\n",
    "        \n",
    "            #co_clustering\n",
    "            co = CoClustering(n_cltr_u=3,n_cltr_i=3,n_epochs=20)         \n",
    "            co.fit(trainset)\n",
    "            co_pred = co.test(testset)\n",
    "            co_rmse.append(accuracy.rmse(co_pred,verbose=False))\n",
    "\n",
    "        \n",
    "        mean_rmses = [np.mean(normp_rmse),\n",
    "                    np.mean(svd_rmse),\n",
    "                    np.mean(knn_rmse),\n",
    "                    np.mean(co_rmse),\n",
    "                    np.mean(slope_rmse)]\n",
    "        \n",
    "        model_names = ['baseline','svd','knn','coclustering','slopeone']\n",
    "        compare_df = pd.DataFrame(mean_rmses, columns=['RMSE'], index=model_names)\n",
    "       \n",
    "    return compare_df\n",
    "'''    "
   ]
  },
  {
   "cell_type": "markdown",
   "metadata": {},
   "source": [
    "# Optimizacion"
   ]
  },
  {
   "cell_type": "code",
   "execution_count": 14,
   "metadata": {},
   "outputs": [
    {
     "name": "stdout",
     "output_type": "stream",
     "text": [
      "________________________________________________\n",
      "###############  1  ######################\n",
      "Evaluating RMSE of algorithm SVD on 3 split(s).\n",
      "\n",
      "                  Fold 1  Fold 2  Fold 3  Mean    Std     \n",
      "RMSE (testset)    0.9261  0.9153  1.0469  0.9627  0.0596  \n",
      "Fit time          9.38    10.39   11.29   10.35   0.78    \n",
      "Test time         11.44   11.52   9.93    10.96   0.73    \n",
      "________________________________________________\n",
      "###############  2  ######################\n",
      "Evaluating RMSE of algorithm SVD on 3 split(s).\n",
      "\n",
      "                  Fold 1  Fold 2  Fold 3  Mean    Std     \n",
      "RMSE (testset)    0.9322  0.8984  1.0445  0.9584  0.0624  \n",
      "Fit time          7.47    7.95    7.68    7.70    0.20    \n",
      "Test time         7.20    7.93    7.18    7.44    0.35    \n",
      "________________________________________________\n",
      "###############  4  ######################\n",
      "Evaluating RMSE of algorithm SVD on 3 split(s).\n",
      "\n",
      "                  Fold 1  Fold 2  Fold 3  Mean    Std     \n",
      "RMSE (testset)    0.9442  0.9536  1.0331  0.9770  0.0399  \n",
      "Fit time          9.88    10.19   10.34   10.14   0.19    \n",
      "Test time         5.52    5.55    2.96    4.67    1.21    \n",
      "________________________________________________\n",
      "###############  8  ######################\n",
      "Evaluating RMSE of algorithm SVD on 3 split(s).\n",
      "\n",
      "                  Fold 1  Fold 2  Fold 3  Mean    Std     \n",
      "RMSE (testset)    0.8705  0.9575  1.0458  0.9579  0.0716  \n",
      "Fit time          7.25    6.80    7.70    7.25    0.37    \n",
      "Test time         3.27    3.79    2.16    3.07    0.68    \n",
      "________________________________________________\n",
      "###############  16  ######################\n",
      "Evaluating RMSE of algorithm SVD on 3 split(s).\n",
      "\n",
      "                  Fold 1  Fold 2  Fold 3  Mean    Std     \n",
      "RMSE (testset)    0.8786  0.8841  1.0461  0.9363  0.0777  \n",
      "Fit time          8.70    8.60    8.86    8.72    0.11    \n",
      "Test time         4.44    5.56    5.15    5.05    0.46    \n",
      "________________________________________________\n",
      "###############  32  ######################\n",
      "Evaluating RMSE of algorithm SVD on 3 split(s).\n",
      "\n",
      "                  Fold 1  Fold 2  Fold 3  Mean    Std     \n",
      "RMSE (testset)    0.9382  0.9162  1.0446  0.9663  0.0561  \n",
      "Fit time          23.51   22.31   24.01   23.28   0.71    \n",
      "Test time         11.16   12.55   11.00   11.57   0.70    \n",
      "________________________________________________\n",
      "###############  64  ######################\n",
      "Evaluating RMSE of algorithm SVD on 3 split(s).\n",
      "\n",
      "                  Fold 1  Fold 2  Fold 3  Mean    Std     \n",
      "RMSE (testset)    0.7865  0.8161  1.0404  0.8810  0.1133  \n",
      "Fit time          26.80   26.74   26.39   26.64   0.18    \n",
      "Test time         7.43    7.86    6.63    7.31    0.51    \n"
     ]
    }
   ],
   "source": [
    "rmse_test_means = []\n",
    "factores = [1,2,4,8,16,32,64]\n",
    "model = SVD()\n",
    "\n",
    "with joblib.parallel_backend('dask'):\n",
    "        \n",
    "    for factor in factores:\n",
    "\n",
    "        print(\"________________________________________________\")\n",
    "        print(\"############### \",factor,\" ######################\")\n",
    "        \n",
    "        model = SVD(n_factors=factor)\n",
    "        cv = cross_validate(model, data, measures=['RMSE'], cv = 3, verbose=True)\n",
    "        rmse_test_means.append(np.mean(cv['test_rmse']))"
   ]
  },
  {
   "cell_type": "code",
   "execution_count": 15,
   "metadata": {},
   "outputs": [
    {
     "data": {
      "image/png": "[encoded data removed]",
      "text/plain": [
       "<Figure size 640x480 with 1 Axes>"
      ]
     },
     "metadata": {},
     "output_type": "display_data"
    }
   ],
   "source": [
    "plt.scatter(factores, rmse_test_means)\n",
    "plt.xlabel('Numero de factores')\n",
    "plt.ylabel('Error RMSE')\n",
    "plt.show()"
   ]
  },
  {
   "cell_type": "code",
   "execution_count": 18,
   "metadata": {},
   "outputs": [],
   "source": [
    "with joblib.parallel_backend('dask'):\n",
    "    from surprise.model_selection import GridSearchCV\n",
    "    param_grid = {'n_factors': [16,32,64],'n_epochs': [5, 10,20], 'lr_all': [0.001, 0.002, 0.005],\n",
    "                'reg_all': [0.002, 0.02, 0.2]}\n",
    "    gs = GridSearchCV(SVD, param_grid, measures=['rmse'], cv=3, n_jobs = -1)\n",
    "    gs.fit(data)"
   ]
  },
  {
   "cell_type": "code",
   "execution_count": 19,
   "metadata": {},
   "outputs": [
    {
     "name": "stdout",
     "output_type": "stream",
     "text": [
      "1.0407482710248088\n",
      "{'n_factors': 16, 'n_epochs': 20, 'lr_all': 0.005, 'reg_all': 0.2}\n"
     ]
    }
   ],
   "source": [
    "print(gs.best_score['rmse'])\n",
    "print(gs.best_params['rmse'])"
   ]
  },
  {
   "cell_type": "markdown",
   "metadata": {},
   "source": [
    "# Modelo Final"
   ]
  },
  {
   "cell_type": "code",
   "execution_count": 33,
   "metadata": {},
   "outputs": [],
   "source": [
    "params = gs.best_params['rmse']"
   ]
  },
  {
   "cell_type": "code",
   "execution_count": 35,
   "metadata": {},
   "outputs": [],
   "source": [
    "modelo = SVD(n_factors=params['n_factors'],\n",
    "             n_epochs=params['n_epochs'],\n",
    "             lr_all=params['lr_all'],\n",
    "             reg_all=params['reg_all'])"
   ]
  },
  {
   "cell_type": "code",
   "execution_count": 36,
   "metadata": {},
   "outputs": [],
   "source": [
    "with joblib.parallel_backend('dask'):\n",
    "    trainset,testset = train_test_split(data,random_state=0)\n",
    "    pred = modelo.fit(trainset).test(testset)"
   ]
  },
  {
   "cell_type": "code",
   "execution_count": 37,
   "metadata": {},
   "outputs": [
    {
     "data": {
      "text/plain": [
       "1.0380495122146414"
      ]
     },
     "execution_count": 37,
     "metadata": {},
     "output_type": "execute_result"
    }
   ],
   "source": [
    "accuracy.rmse(pred,verbose=False)"
   ]
  },
  {
   "cell_type": "code",
   "execution_count": 38,
   "metadata": {},
   "outputs": [],
   "source": [
    "from surprise import dump"
   ]
  },
  {
   "cell_type": "code",
   "execution_count": 39,
   "metadata": {},
   "outputs": [
    {
     "name": "stdout",
     "output_type": "stream",
     "text": [
      "The dump has been saved as file modelo_svd\n"
     ]
    }
   ],
   "source": [

    "dump.dump('modelo_svd',predictions=pred,algo=modelo,verbose=1)"

   ]
  }
 ],
 "metadata": {
  "kernelspec": {
   "display_name": ".venv",
   "language": "python",
   "name": "python3"
  },
  "language_info": {
   "codemirror_mode": {
    "name": "ipython",
    "version": 3
   },
   "file_extension": ".py",
   "mimetype": "text/x-python",
   "name": "python",
   "nbconvert_exporter": "python",
   "pygments_lexer": "ipython3",
   "version": "3.9.16"
  },
  "vscode": {
   "interpreter": {
    "hash": "e11155bfa150a040919910af2a60192646b8d074f0919926ee8f0b3b773cc345"
   }
  }
 },
 "nbformat": 4,
 "nbformat_minor": 2
}
